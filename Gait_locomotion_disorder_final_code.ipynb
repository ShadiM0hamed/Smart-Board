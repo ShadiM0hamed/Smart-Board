{
  "nbformat": 4,
  "nbformat_minor": 0,
  "metadata": {
    "colab": {
      "name": "Gait locomotion disorder final code",
      "provenance": [],
      "collapsed_sections": [],
      "mount_file_id": "153zcLq5UscJASeyKSluYlUSlYno3Rl-n",
      "authorship_tag": "ABX9TyMaBWzHt7JATIwTfQ6FXdxI",
      "include_colab_link": true
    },
    "kernelspec": {
      "display_name": "Python 3",
      "name": "python3"
    },
    "accelerator": "GPU"
  },
  "cells": [
    {
      "cell_type": "markdown",
      "metadata": {
        "id": "view-in-github",
        "colab_type": "text"
      },
      "source": [
        "<a href=\"https://colab.research.google.com/github/ShadiM0hamed/Smart-Board/blob/main/Gait_locomotion_disorder_final_code.ipynb\" target=\"_parent\"><img src=\"https://colab.research.google.com/assets/colab-badge.svg\" alt=\"Open In Colab\"/></a>"
      ]
    },
    {
      "cell_type": "code",
      "metadata": {
        "colab": {
          "base_uri": "https://localhost:8080/"
        },
        "id": "bi2iBL77fGut",
        "outputId": "d83874f3-1be4-4c9e-cce6-0df641ede1e4"
      },
      "source": [
        "#this line is used to connext the code to the drive\n",
        "from google.colab import drive\n",
        "drive.mount('/content/drive/')"
      ],
      "execution_count": null,
      "outputs": [
        {
          "output_type": "stream",
          "name": "stdout",
          "text": [
            "Drive already mounted at /content/drive/; to attempt to forcibly remount, call drive.mount(\"/content/drive/\", force_remount=True).\n"
          ]
        }
      ]
    },
    {
      "cell_type": "code",
      "metadata": {
        "id": "QQO91xPLUjAu",
        "colab": {
          "base_uri": "https://localhost:8080/"
        },
        "outputId": "e6ed4c41-f037-415f-b379-f1ca1e05d0cf"
      },
      "source": [
        "!pip install pyunpack\n",
        "!pip install patool"
      ],
      "execution_count": null,
      "outputs": [
        {
          "output_type": "stream",
          "name": "stdout",
          "text": [
            "Collecting pyunpack\n",
            "  Downloading pyunpack-0.2.2-py2.py3-none-any.whl (3.8 kB)\n",
            "Collecting entrypoint2\n",
            "  Downloading entrypoint2-0.2.4-py3-none-any.whl (6.2 kB)\n",
            "Collecting easyprocess\n",
            "  Downloading EasyProcess-0.3-py2.py3-none-any.whl (7.9 kB)\n",
            "Installing collected packages: entrypoint2, easyprocess, pyunpack\n",
            "Successfully installed easyprocess-0.3 entrypoint2-0.2.4 pyunpack-0.2.2\n",
            "Collecting patool\n",
            "  Downloading patool-1.12-py2.py3-none-any.whl (77 kB)\n",
            "\u001b[K     |████████████████████████████████| 77 kB 3.4 MB/s \n",
            "\u001b[?25hInstalling collected packages: patool\n",
            "Successfully installed patool-1.12\n"
          ]
        }
      ]
    },
    {
      "cell_type": "code",
      "metadata": {
        "id": "pudhnQziiGaY"
      },
      "source": [
        "\n",
        "#the data in the cloud was compressed, so we used this line of code to ex5ract the data to desired folder\n",
        "from pyunpack import Archive\n",
        "Archive('/content/drive/MyDrive/GaitLocomotionDisorder/Dataset-Copy.rar').extractall('/content/drive/MyDrive/GaitLocomotionDisorder/NormalDataset')"
      ],
      "execution_count": null,
      "outputs": []
    },
    {
      "cell_type": "markdown",
      "metadata": {
        "id": "_3Z_p6mfe1VM"
      },
      "source": [
        "# 1- Importing Libraries"
      ]
    },
    {
      "cell_type": "code",
      "metadata": {
        "id": "gOOkl8-5emWV"
      },
      "source": [
        "\n",
        "#importing the libraries used in the code\n",
        "import glob\n",
        "import cv2\n",
        "import numpy as np \n",
        "import pandas as pd\n",
        "import matplotlib.pyplot as plt\n",
        " \n",
        "from tensorflow.keras.models import Sequential\n",
        "from tensorflow.keras.layers import Dense, Conv2D, MaxPool2D, GlobalAveragePooling2D, Flatten, Dropout\n",
        "from tensorflow.keras.callbacks import EarlyStopping, ReduceLROnPlateau\n",
        "from tensorflow.keras.optimizers import Adam\n",
        "from sklearn.model_selection import train_test_split\n",
        "from keras.preprocessing.image import ImageDataGenerator\n",
        "from tensorflow.keras.applications import MobileNet\n",
        "from sklearn.metrics import confusion_matrix\n",
        "from mlxtend.plotting import plot_confusion_matrix\n",
        "from sklearn.mixture import GaussianMixture as GMM\n",
        " \n",
        "%matplotlib inline\n",
        "import warnings\n",
        "warnings.filterwarnings('ignore')"
      ],
      "execution_count": null,
      "outputs": []
    },
    {
      "cell_type": "markdown",
      "metadata": {
        "id": "GnhDcFpufcAG"
      },
      "source": [
        "# 2- Setting Variables"
      ]
    },
    {
      "cell_type": "code",
      "metadata": {
        "id": "rkV_4T2RfbBr"
      },
      "source": [
        "\n",
        "#assigning the width and the height of the image, also the number of epochs and batch size in the learning model\n",
        "image_w = 220\n",
        "image_h = 140\n",
        "batch_size = 32\n",
        "epochs = 20"
      ],
      "execution_count": null,
      "outputs": []
    },
    {
      "cell_type": "markdown",
      "metadata": {
        "id": "wPtCjUzoUGqZ"
      },
      "source": [
        "#Defining the Video Dataset Directory"
      ]
    },
    {
      "cell_type": "code",
      "metadata": {
        "colab": {
          "base_uri": "https://localhost:8080/"
        },
        "id": "LAhvZe2SCr6N",
        "outputId": "be914463-cfde-44fd-a191-7fac78488890"
      },
      "source": [
        "\n",
        "#Defining the folder containing the dataset of one of the classes\n",
        "Abnormalbefore = glob.glob(\"/content/drive/MyDrive/GaitLocomotionDisorder/Abnormal Dataset Before Conversion to image files/*\")\n",
        "print(\"Abnormal before Conversion lens is {}\".format(len(Abnormalbefore)))\n",
        "print(Abnormalbefore[0])"
      ],
      "execution_count": null,
      "outputs": [
        {
          "output_type": "stream",
          "text": [
            "Abnormal before Conversion lens is 4\n",
            "/content/drive/MyDrive/GaitLocomotionDisorder/Abnormal Dataset Before Conversion to image files/y2mate.com - AboveKnee Amputee Gait Case Study 22_1080pFHR (online-video-cutter.com).mp4\n"
          ],
          "name": "stdout"
        }
      ]
    },
    {
      "cell_type": "markdown",
      "metadata": {
        "id": "yZDIeawYCyeH"
      },
      "source": [
        "Converting the Dataset from Videos to images"
      ]
    },
    {
      "cell_type": "code",
      "metadata": {
        "id": "hVNNHm-mf6Or"
      },
      "source": [
        "\n",
        "#this part is used to get each image from the video and adding this image to the gmm model to remove the background from it\n",
        "import cv2 \n",
        "import os\n",
        "!CV_Assert( ssize.area() > 0 );\n",
        "#fgbg = cv2.createBackgroundSubtractorMOG2(varThreshold = 100)\n",
        "z = 0\n",
        "for i in range(1, len(Abnormalbefore)):\n",
        "  \n",
        " \n",
        "  # Read the video from specified path \n",
        "  cam = cv2.VideoCapture(Abnormalbefore[i]) \n",
        " \n",
        " \n",
        " \n",
        "  print(\"Finished With a Video\")\n",
        " \n",
        " \n",
        " \n",
        "  try: \n",
        "    \n",
        "    # creating a folder named data \n",
        "      if not os.path.exists('data'): \n",
        "          os.makedirs('data') \n",
        " \n",
        "  # if not created then raise error \n",
        "  except OSError: \n",
        "      print ('Error: Creating directory of data') \n",
        " \n",
        "  # frame \n",
        "  currentframe = 0\n",
        " \n",
        "  while(True): \n",
        "    \n",
        "    # reading from frame \n",
        "      ret,frame = cam.read()  \n",
        " \n",
        "      \n",
        " \n",
        "      if ret: \n",
        "        # if video is still left continue creating images \n",
        "          name = '/content/drive/MyDrive/GaitLocomotionDisorder/Abnormal Converted Dataset/Segmented with 2 GMMs comp3 of Vid2 image N.' + str(z +1)+ ' of video' +'.jpg'\n",
        "          print ('Creating...' + name)\n",
        "          frame = cv2.resize(frame, (220, 140))\n",
        "          img2 = frame.reshape((-1,3))\n",
        "          #print(img2.shape[0],img2.shape[1])\n",
        "          #print(frame.shape[0],frame.shape[1])\n",
        "          z=z+1\n",
        "          #sending the images to the gmm model to remove the unwanted data and saving the images to the drive\n",
        " \n",
        "          gmm_model = GMM(n_components=2, covariance_type='tied').fit(img2)\n",
        " \n",
        "          gmm_labels = gmm_model.predict(img2)\n",
        " \n",
        "        # This changes the output values of the vector from (0 or 1) to (0 or 255). 0 is black and 255 is white, so image can be distinguished \n",
        "          for i in range(gmm_labels.shape[0]):\n",
        "                  if gmm_labels[i] == 0:\n",
        "                          gmm_labels[i] = 255\n",
        "                          \n",
        "                  elif gmm_labels[i] == 255:\n",
        "                          gmm_labels[i] = 0\n",
        "          #print(frame.shape[0], frame.shape[1])\n",
        "          segmented = gmm_labels.reshape(frame.shape[0], frame.shape[1])\n",
        "          #print(segmented.shape[0],segmented.shape[1])\n",
        "\n",
        " \n",
        "        # writing the extracted images \n",
        "          cv2.imwrite(name, segmented) \n",
        "        # increasing counter so that it will \n",
        "        # show how many frames are created \n",
        "          currentframe += 1\n",
        "      else: \n",
        "          break\n",
        " \n",
        "# Release all space and windows once done \n",
        "  cam.release() \n",
        "  cv2.destroyAllWindows()"
      ],
      "execution_count": null,
      "outputs": []
    },
    {
      "cell_type": "markdown",
      "metadata": {
        "id": "6fI31AWhfqBT"
      },
      "source": [
        "# 3- Input the dataset"
      ]
    },
    {
      "cell_type": "code",
      "metadata": {
        "id": "YX0dU8StUBGo",
        "colab": {
          "base_uri": "https://localhost:8080/"
        },
        "outputId": "2d990a59-763e-4846-f1e1-1a702a1710f6"
      },
      "source": [
        "\n",
        "#defining the folders containing the dataset and the images.\n",
        "data_dir = '/content/drive/MyDrive/GaitLocomotionDisorder'\n",
        "base_dir=\"/content/drive/MyDrive/GaitLocomotionDisorder\"\n",
        " \n",
        "import pathlib\n",
        "data_dir = pathlib.Path(data_dir)\n",
        "list(data_dir.glob('*/*.png'))\n",
        " \n",
        "N1 = glob.glob(base_dir + '/NormalDataset/Dataset - Copy/Normal Gait/*')\n",
        "N2 = glob.glob(base_dir + '/NormalDataset/Dataset - Copy/Normal Gait 2/fq00/*')\n",
        "N3 = glob.glob(base_dir + '/NormalDataset/Dataset - Copy/Normal Gait 2/fq01/*')\n",
        "N4 = glob.glob(base_dir + '/NormalDataset/Dataset - Copy/Normal Gait 2/fs00/*')\n",
        "N5 = glob.glob(base_dir + '/NormalDataset/Dataset - Copy/Normal Gait 2/fs01/*')\n",
        "Normal = N1+N2+N3+N4+N5\n",
        " \n",
        "Abnormal  = glob.glob(base_dir + '/Abnormal Converted Dataset/*')\n",
        " \n",
        "image_count = len(list(data_dir.glob('*/*.jpg')))\n",
        "objects = {\n",
        "'Normal Gait' : list(Normal),\n",
        "'Abnormal Gait' : list(Abnormal)\n",
        "}\n",
        " \n",
        "objects_labels = {\n",
        "    'Normal Gait' : 0,\n",
        "   'Abnormal Gait' : 1,\n",
        "    }\n",
        "#printing the number of each class's images\n",
        "print(\"Number of Normal Images : \" + str(len(objects['Normal Gait'])))\n",
        "print(\"Number of Abnormal Images : \" + str(len(objects['Abnormal Gait'])))"
      ],
      "execution_count": null,
      "outputs": [
        {
          "output_type": "stream",
          "name": "stdout",
          "text": [
            "Number of Normal Images : 15689\n",
            "Number of Abnormal Images : 31315\n"
          ]
        }
      ]
    },
    {
      "cell_type": "markdown",
      "metadata": {
        "id": "6cYOsxF669B3"
      },
      "source": [
        "# 4- Adding Labels to the Dataset"
      ]
    },
    {
      "cell_type": "code",
      "metadata": {
        "colab": {
          "base_uri": "https://localhost:8080/",
          "height": 1000
        },
        "id": "E_q9Fyp26MZz",
        "outputId": "f083ddf3-083e-4e45-e086-486b032c595a"
      },
      "source": [
        "\n",
        "#transforming the images into number and assigning a label to each image\n",
        "X, y = [], []\n",
        "w = 1\n",
        "for name, images in objects.items():\n",
        "    print(\"Printing...\")\n",
        "    for image in images:\n",
        "          \n",
        "        img = cv2.imread(str(image))\n",
        "        \n",
        "      \n",
        "        try:\n",
        "            resized = cv2.resize(img, (220,140))\n",
        "            print(w)\n",
        "            w = w + 1 \n",
        "            X.append(resized)\n",
        "            y.append(objects_labels[name])\n",
        "        except:\n",
        "            print('skipped')\n",
        "            break\n",
        "        \n",
        "X = np.array(X)\n",
        "y = np.array(y)\n",
        "print(\"Finished\")\n",
        "print(Normal[0])\n",
        "print(Abnormal[0])"
      ],
      "execution_count": null,
      "outputs": [
        {
          "output_type": "stream",
          "name": "stdout",
          "text": [
            "Printing...\n",
            "1\n",
            "2\n",
            "3\n",
            "4\n",
            "5\n",
            "6\n",
            "7\n",
            "8\n",
            "9\n",
            "10\n",
            "11\n",
            "12\n",
            "13\n",
            "14\n",
            "15\n",
            "16\n",
            "17\n",
            "18\n",
            "19\n",
            "20\n",
            "21\n",
            "22\n",
            "23\n",
            "24\n",
            "25\n",
            "26\n",
            "27\n",
            "28\n",
            "29\n",
            "30\n",
            "31\n",
            "32\n",
            "33\n",
            "34\n",
            "35\n",
            "36\n",
            "37\n",
            "38\n",
            "39\n",
            "40\n",
            "41\n",
            "42\n",
            "43\n",
            "44\n",
            "45\n",
            "46\n",
            "47\n",
            "48\n",
            "49\n",
            "50\n",
            "51\n",
            "52\n",
            "53\n",
            "54\n",
            "55\n",
            "56\n",
            "57\n",
            "58\n",
            "59\n",
            "60\n",
            "61\n",
            "62\n",
            "63\n",
            "64\n",
            "65\n",
            "66\n",
            "67\n",
            "68\n",
            "69\n",
            "70\n",
            "71\n",
            "72\n",
            "73\n",
            "74\n",
            "75\n",
            "76\n",
            "77\n",
            "78\n",
            "79\n"
          ]
        },
        {
          "output_type": "error",
          "ename": "KeyboardInterrupt",
          "evalue": "ignored",
          "traceback": [
            "\u001b[0;31m---------------------------------------------------------------------------\u001b[0m",
            "\u001b[0;31mKeyboardInterrupt\u001b[0m                         Traceback (most recent call last)",
            "\u001b[0;32m<ipython-input-6-d2d1c56dc836>\u001b[0m in \u001b[0;36m<module>\u001b[0;34m()\u001b[0m\n\u001b[1;32m      7\u001b[0m     \u001b[0;32mfor\u001b[0m \u001b[0mimage\u001b[0m \u001b[0;32min\u001b[0m \u001b[0mimages\u001b[0m\u001b[0;34m:\u001b[0m\u001b[0;34m\u001b[0m\u001b[0;34m\u001b[0m\u001b[0m\n\u001b[1;32m      8\u001b[0m \u001b[0;34m\u001b[0m\u001b[0m\n\u001b[0;32m----> 9\u001b[0;31m         \u001b[0mimg\u001b[0m \u001b[0;34m=\u001b[0m \u001b[0mcv2\u001b[0m\u001b[0;34m.\u001b[0m\u001b[0mimread\u001b[0m\u001b[0;34m(\u001b[0m\u001b[0mstr\u001b[0m\u001b[0;34m(\u001b[0m\u001b[0mimage\u001b[0m\u001b[0;34m)\u001b[0m\u001b[0;34m)\u001b[0m\u001b[0;34m\u001b[0m\u001b[0;34m\u001b[0m\u001b[0m\n\u001b[0m\u001b[1;32m     10\u001b[0m \u001b[0;34m\u001b[0m\u001b[0m\n\u001b[1;32m     11\u001b[0m \u001b[0;34m\u001b[0m\u001b[0m\n",
            "\u001b[0;31mKeyboardInterrupt\u001b[0m: "
          ]
        }
      ]
    },
    {
      "cell_type": "code",
      "metadata": {
        "id": "fJ93q4tapu88",
        "colab": {
          "base_uri": "https://localhost:8080/",
          "height": 281
        },
        "outputId": "43e54610-ce5e-4ca0-9d62-120f7ca86725"
      },
      "source": [
        "plt.figure()\n",
        "plt.imshow(X[0])"
      ],
      "execution_count": null,
      "outputs": [
        {
          "output_type": "execute_result",
          "data": {
            "text/plain": [
              "<matplotlib.image.AxesImage at 0x7f60293a8490>"
            ]
          },
          "metadata": {},
          "execution_count": 7
        },
        {
          "output_type": "display_data",
          "data": {
            "image/png": "[encoded data removed]",
            "text/plain": [
              "<Figure size 432x288 with 1 Axes>"
            ]
          },
          "metadata": {
            "needs_background": "light"
          }
        }
      ]
    },
    {
      "cell_type": "markdown",
      "metadata": {
        "id": "Ol_nh4OU_ccd"
      },
      "source": [
        "# 5- Splitting the Data"
      ]
    },
    {
      "cell_type": "code",
      "metadata": {
        "id": "DB5GOC-k_hIp"
      },
      "source": [
        "\n",
        "#splitting the data to define the testing sample and the training one\n",
        "from sklearn.model_selection import train_test_split\n",
        "X_train, X_test, y_train, y_test = train_test_split(X, y, test_size = 0.2, random_state = 0)\n",
        " \n",
        "print(len(X_train), len(X_test),len(y_train), len(y_test))"
      ],
      "execution_count": null,
      "outputs": []
    },
    {
      "cell_type": "markdown",
      "metadata": {
        "id": "jrJemM9qApky"
      },
      "source": [
        "# 9- Building The Model"
      ]
    },
    {
      "cell_type": "code",
      "metadata": {
        "id": "Lmh5HnpsAyhz"
      },
      "source": [
        "model = Sequential([\n",
        "    Conv2D(filters = 32, kernel_size = (3,3), padding = 'same', \n",
        "           activation ='relu', input_shape = (image_w, image_h, 3)),\n",
        "    MaxPool2D(pool_size=(2,2)),\n",
        "    \n",
        "    Conv2D(filters = 64, kernel_size = (3,3), padding = 'same', activation ='relu'),\n",
        "    MaxPool2D(pool_size=(2,2)),\n",
        "    \n",
        "    Conv2D(filters = 128, kernel_size = (3,3), padding = 'same', activation ='relu'),\n",
        "    MaxPool2D(pool_size=(2,2)),\n",
        "    \n",
        "    Conv2D(filters = 256, kernel_size = (3,3), padding = 'same', activation ='relu'),\n",
        "    MaxPool2D(pool_size=(2,2)),\n",
        "    \n",
        "    Flatten(),\n",
        "    Dense(1024, activation='relu'),\n",
        "    Dropout(0.2),\n",
        "    Dense(2, activation='sigmoid')\n",
        "])"
      ],
      "execution_count": null,
      "outputs": []
    },
    {
      "cell_type": "code",
      "metadata": {
        "colab": {
          "base_uri": "https://localhost:8080/"
        },
        "id": "Jlv51N_EBDyF",
        "outputId": "ea65480a-971b-4411-b147-cac401d26511"
      },
      "source": [
        "model.compile(optimizer=Adam(lr=0.0001, beta_1=0.9, beta_2=0.999),\n",
        "              loss='sparse_categorical_crossentropy',\n",
        "              metrics=['accuracy'])\n",
        "\n",
        "es = EarlyStopping(monitor='val_loss', \n",
        "                   patience=8, \n",
        "                   restore_best_weights=True)\n",
        "\n",
        "# lr_reduction = ReduceLROnPlateau(monitor='val_accuracy', \n",
        "#                                  patience = 4, \n",
        "#                                  verbose=1,\n",
        "#                                  factor=0.5, \n",
        "#                                  min_lr=0.00005)\n",
        "\n",
        "model.summary()"
      ],
      "execution_count": null,
      "outputs": [
        {
          "output_type": "stream",
          "text": [
            "Model: \"sequential\"\n",
            "_________________________________________________________________\n",
            "Layer (type)                 Output Shape              Param #   \n",
            "=================================================================\n",
            "conv2d (Conv2D)              (None, 220, 140, 32)      2432      \n",
            "_________________________________________________________________\n",
            "max_pooling2d (MaxPooling2D) (None, 110, 70, 32)       0         \n",
            "_________________________________________________________________\n",
            "conv2d_1 (Conv2D)            (None, 110, 70, 64)       18496     \n",
            "_________________________________________________________________\n",
            "max_pooling2d_1 (MaxPooling2 (None, 55, 35, 64)        0         \n",
            "_________________________________________________________________\n",
            "dropout (Dropout)            (None, 55, 35, 64)        0         \n",
            "_________________________________________________________________\n",
            "conv2d_2 (Conv2D)            (None, 55, 35, 128)       73856     \n",
            "_________________________________________________________________\n",
            "max_pooling2d_2 (MaxPooling2 (None, 27, 17, 128)       0         \n",
            "_________________________________________________________________\n",
            "dropout_1 (Dropout)          (None, 27, 17, 128)       0         \n",
            "_________________________________________________________________\n",
            "conv2d_3 (Conv2D)            (None, 27, 17, 256)       295168    \n",
            "_________________________________________________________________\n",
            "max_pooling2d_3 (MaxPooling2 (None, 13, 8, 256)        0         \n",
            "_________________________________________________________________\n",
            "dropout_2 (Dropout)          (None, 13, 8, 256)        0         \n",
            "_________________________________________________________________\n",
            "flatten (Flatten)            (None, 26624)             0         \n",
            "_________________________________________________________________\n",
            "dense (Dense)                (None, 1024)              27264000  \n",
            "_________________________________________________________________\n",
            "dropout_3 (Dropout)          (None, 1024)              0         \n",
            "_________________________________________________________________\n",
            "dense_1 (Dense)              (None, 2)                 2050      \n",
            "=================================================================\n",
            "Total params: 27,656,002\n",
            "Trainable params: 27,656,002\n",
            "Non-trainable params: 0\n",
            "_________________________________________________________________\n"
          ],
          "name": "stdout"
        }
      ]
    },
    {
      "cell_type": "markdown",
      "metadata": {
        "id": "IzXw3FuzBJa3"
      },
      "source": [
        "#10- Training the Model"
      ]
    },
    {
      "cell_type": "code",
      "metadata": {
        "id": "9I-utF7PBPwn",
        "colab": {
          "base_uri": "https://localhost:8080/"
        },
        "outputId": "5551773c-6c86-4d71-887d-10ea50fe95d6"
      },
      "source": [
        "history = model.fit(X_train, y_train, epochs = 30)"
      ],
      "execution_count": null,
      "outputs": [
        {
          "output_type": "stream",
          "text": [
            "Epoch 1/10\n",
            "1176/1176 [==============================] - 48s 41ms/step - loss: 0.0092 - accuracy: 0.9996\n",
            "Epoch 2/10\n",
            "1176/1176 [==============================] - 48s 41ms/step - loss: 3.3520e-04 - accuracy: 0.9999\n",
            "Epoch 3/10\n",
            "1176/1176 [==============================] - 48s 41ms/step - loss: 0.0029 - accuracy: 0.9999\n",
            "Epoch 4/10\n",
            "1176/1176 [==============================] - 48s 41ms/step - loss: 4.3753e-04 - accuracy: 0.9999\n",
            "Epoch 5/10\n",
            "1176/1176 [==============================] - 48s 41ms/step - loss: 2.5564e-05 - accuracy: 1.0000\n",
            "Epoch 6/10\n",
            "1176/1176 [==============================] - 48s 41ms/step - loss: 1.6698e-04 - accuracy: 0.9999\n",
            "Epoch 7/10\n",
            "1176/1176 [==============================] - 48s 41ms/step - loss: 2.1123e-07 - accuracy: 1.0000\n",
            "Epoch 8/10\n",
            "1176/1176 [==============================] - 48s 41ms/step - loss: 0.0047 - accuracy: 0.9997\n",
            "Epoch 9/10\n",
            "1176/1176 [==============================] - 48s 40ms/step - loss: 0.0028 - accuracy: 0.9999\n",
            "Epoch 10/10\n",
            "1176/1176 [==============================] - 48s 40ms/step - loss: 2.9068e-07 - accuracy: 1.0000\n"
          ],
          "name": "stdout"
        }
      ]
    },
    {
      "cell_type": "code",
      "metadata": {
        "id": "gTmQhB22xuyi"
      },
      "source": [
        "model.evaluate(X_test, y_test)"
      ],
      "execution_count": null,
      "outputs": []
    },
    {
      "cell_type": "markdown",
      "metadata": {
        "id": "kNTb8BXFBQ9T"
      },
      "source": [
        "#11- Plotting the accuracy and the Lost Function"
      ]
    },
    {
      "cell_type": "code",
      "metadata": {
        "colab": {
          "base_uri": "https://localhost:8080/",
          "height": 360
        },
        "id": "ncOfDfd7BoYa",
        "outputId": "539948f7-7c06-45a2-9c0e-3bf86ea577bf"
      },
      "source": [
        "# plot the accuracy and loss of the model\n",
        "fig, ax = plt.subplots(1, 2, figsize=(10, 5))\n",
        "\n",
        "for i, e in enumerate(['accuracy', 'loss']):\n",
        "    ax[i].plot(history.history[e])\n",
        "    ax[i].set_title(e, fontsize=20)\n",
        "    ax[i].set_xlabel('epochs', fontsize=15)\n",
        "    ax[i].set_ylabel(e, fontsize=15)\n",
        "    ax[i].legend(['train', 'val'])"
      ],
      "execution_count": null,
      "outputs": [
        {
          "output_type": "display_data",
          "data": {
            "image/png": "[encoded data removed]",
            "text/plain": [
              "<Figure size 720x360 with 2 Axes>"
            ]
          },
          "metadata": {
            "tags": [],
            "needs_background": "light"
          }
        }
      ]
    },
    {
      "cell_type": "markdown",
      "metadata": {
        "id": "udVinEYvBpqh"
      },
      "source": [
        "#12- Plotting the Confusion Matrix of the Model"
      ]
    },
    {
      "cell_type": "code",
      "metadata": {
        "colab": {
          "base_uri": "https://localhost:8080/",
          "height": 476
        },
        "id": "VDNuUMlFB1fE",
        "outputId": "a03f5f4e-c9d6-4d63-83ef-99fa8c9da350"
      },
      "source": [
        "predictions = model.predict_classes(X_test)\n",
        "\n",
        "cm = confusion_matrix(y_test, predictions)\n",
        "plot_confusion_matrix(conf_mat = cm, \n",
        "                      figsize=(8,7),\n",
        "                      show_normed=True)"
      ],
      "execution_count": null,
      "outputs": [
        {
          "output_type": "execute_result",
          "data": {
            "text/plain": [
              "(<Figure size 576x504 with 1 Axes>,\n",
              " <matplotlib.axes._subplots.AxesSubplot at 0x7f06ec368e80>)"
            ]
          },
          "metadata": {
            "tags": []
          },
          "execution_count": 18
        },
        {
          "output_type": "display_data",
          "data": {
            "image/png": "[encoded data removed]",
            "text/plain": [
              "<Figure size 576x504 with 1 Axes>"
            ]
          },
          "metadata": {
            "tags": [],
            "needs_background": "light"
          }
        }
      ]
    },
    {
      "cell_type": "markdown",
      "metadata": {
        "id": "tUeAEwezB2aq"
      },
      "source": [
        "#13- Calculating the Accuracy of the model\n"
      ]
    },
    {
      "cell_type": "code",
      "metadata": {
        "colab": {
          "base_uri": "https://localhost:8080/"
        },
        "id": "jS4sGgUjB9qE",
        "outputId": "666f62b7-087e-4795-97b1-e8ed6960229a"
      },
      "source": [
        "test_accuracy = (cm[0, 0] + cm[1, 1])/ len(X_test)\n",
        "print(\"Test Accuracy: {}%\".format(test_accuracy * 100, 3))"
      ],
      "execution_count": null,
      "outputs": [
        {
          "output_type": "stream",
          "text": [
            "Test Accuracy: 100.0%\n"
          ],
          "name": "stdout"
        }
      ]
    },
    {
      "cell_type": "markdown",
      "metadata": {
        "id": "YUk7vRFQilvJ"
      },
      "source": [
        "#14- Saving the model\n"
      ]
    },
    {
      "cell_type": "code",
      "metadata": {
        "id": "PwftCZQRRj6R"
      },
      "source": [
        "model.save('/content/drive/MyDrive/GaitLocomotionDisorder/Saved Model/model.h5')"
      ],
      "execution_count": null,
      "outputs": []
    }
  ]
}